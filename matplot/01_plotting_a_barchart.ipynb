{
 "cells": [
  {
   "cell_type": "markdown",
   "metadata": {},
   "source": [
    "# Creating a Bar Chart "
   ]
  },
  {
   "cell_type": "markdown",
   "metadata": {},
   "source": [
    "To create an ordered bar chart we first need to create two arrays. These arrays can be in the form of a list or in the form of an numpy array."
   ]
  },
  {
   "cell_type": "markdown",
   "metadata": {},
   "source": [
    "The first thing that we need to do is to import the relevant libraries."
   ]
  },
  {
   "cell_type": "code",
   "execution_count": 7,
   "metadata": {
    "collapsed": true
   },
   "outputs": [],
   "source": [
    "import numpy as np\n",
    "import matplotlib.pyplot as plt\n",
    "import os"
   ]
  },
  {
   "cell_type": "markdown",
   "metadata": {},
   "source": [
    "Next we will create some test data which will allow us to experiment with the plotting. We will use the random number generators."
   ]
  },
  {
   "cell_type": "code",
   "execution_count": 12,
   "metadata": {
    "collapsed": false
   },
   "outputs": [],
   "source": [
    "# Creates the value of the bar needed to be plotted\n",
    "# using values selected at randoms from the normal\n",
    "# distribution squared\n",
    "plot_data = np.random.randn(6,1)**2\n",
    "\n",
    "# Create a list of tick labels to assign to the xaxis\n",
    "tick_names = ['class_1','class_2','class_3',\n",
    "                   'class_4','class_5','class_6']\n",
    "\n",
    "# A range of values of the length of the number of bars\n",
    "# to be plotted is created for input to the plot\n",
    "num_bars = np.arange(len(plot_data))\n"
   ]
  },
  {
   "cell_type": "markdown",
   "metadata": {},
   "source": [
    "Now the plot is created, the axes labelled, and the the figure saved to file"
   ]
  },
  {
   "cell_type": "code",
   "execution_count": 13,
   "metadata": {
    "collapsed": false
   },
   "outputs": [
    {
     "data": {
      "image/png": "[encoded data removed]",
      "text/plain": [
       "<matplotlib.figure.Figure at 0x7f1675f81c88>"
      ]
     },
     "metadata": {},
     "output_type": "display_data"
    }
   ],
   "source": [
    "# Create a figure in the plot space\n",
    "fig1 = plt.figure(1)\n",
    "plt.bar(num_bars,plot_data,tick_label=tick_names)\n",
    "plt.xticks(rotation=90)\n",
    "plt.ylabel('Label for y-axis')\n",
    "plt.show()\n",
    "filename = os.getcwd() + '/Plots/bar_chart_1.png'\n",
    "fig1.savefig(filename)"
   ]
  },
  {
   "cell_type": "code",
   "execution_count": null,
   "metadata": {
    "collapsed": true
   },
   "outputs": [],
   "source": []
  }
 ],
 "metadata": {
  "kernelspec": {
   "display_name": "Python 3",
   "language": "python",
   "name": "python3"
  },
  "language_info": {
   "codemirror_mode": {
    "name": "ipython",
    "version": 3
   },
   "file_extension": ".py",
   "mimetype": "text/x-python",
   "name": "python",
   "nbconvert_exporter": "python",
   "pygments_lexer": "ipython3",
   "version": "3.6.0"
  }
 },
 "nbformat": 4,
 "nbformat_minor": 2
}
