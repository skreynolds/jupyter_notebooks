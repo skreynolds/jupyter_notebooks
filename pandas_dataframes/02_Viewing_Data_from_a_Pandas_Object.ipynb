{
 "cells": [
  {
   "cell_type": "markdown",
   "metadata": {},
   "source": [
    "# Viewing Data from a DataFrame"
   ]
  },
  {
   "cell_type": "markdown",
   "metadata": {},
   "source": [
    "To see the top and bottom rows of the frame, we use the head and tail methods, respectivey. Note that if we leave the arguements blank the output will be 5 lines, however, this can be modified:"
   ]
  },
  {
   "cell_type": "code",
   "execution_count": 11,
   "metadata": {
    "collapsed": false
   },
   "outputs": [
    {
     "data": {
      "text/html": [
       "<div>\n",
       "<table border=\"1\" class=\"dataframe\">\n",
       "  <thead>\n",
       "    <tr style=\"text-align: right;\">\n",
       "      <th></th>\n",
       "      <th>A</th>\n",
       "      <th>B</th>\n",
       "      <th>C</th>\n",
       "      <th>D</th>\n",
       "    </tr>\n",
       "  </thead>\n",
       "  <tbody>\n",
       "    <tr>\n",
       "      <th>2013-01-01</th>\n",
       "      <td>1.814453</td>\n",
       "      <td>-0.434965</td>\n",
       "      <td>-1.135232</td>\n",
       "      <td>-0.206673</td>\n",
       "    </tr>\n",
       "    <tr>\n",
       "      <th>2013-01-02</th>\n",
       "      <td>0.914778</td>\n",
       "      <td>0.072761</td>\n",
       "      <td>-0.623462</td>\n",
       "      <td>-0.101702</td>\n",
       "    </tr>\n",
       "    <tr>\n",
       "      <th>2013-01-03</th>\n",
       "      <td>1.529400</td>\n",
       "      <td>-1.081315</td>\n",
       "      <td>-0.765334</td>\n",
       "      <td>0.719386</td>\n",
       "    </tr>\n",
       "    <tr>\n",
       "      <th>2013-01-04</th>\n",
       "      <td>-1.280894</td>\n",
       "      <td>0.277744</td>\n",
       "      <td>0.307192</td>\n",
       "      <td>-0.740570</td>\n",
       "    </tr>\n",
       "    <tr>\n",
       "      <th>2013-01-05</th>\n",
       "      <td>-1.735930</td>\n",
       "      <td>0.230301</td>\n",
       "      <td>0.184035</td>\n",
       "      <td>0.752999</td>\n",
       "    </tr>\n",
       "  </tbody>\n",
       "</table>\n",
       "</div>"
      ],
      "text/plain": [
       "                   A         B         C         D\n",
       "2013-01-01  1.814453 -0.434965 -1.135232 -0.206673\n",
       "2013-01-02  0.914778  0.072761 -0.623462 -0.101702\n",
       "2013-01-03  1.529400 -1.081315 -0.765334  0.719386\n",
       "2013-01-04 -1.280894  0.277744  0.307192 -0.740570\n",
       "2013-01-05 -1.735930  0.230301  0.184035  0.752999"
      ]
     },
     "execution_count": 11,
     "metadata": {},
     "output_type": "execute_result"
    }
   ],
   "source": [
    "import pandas as pd\n",
    "import numpy as np\n",
    "import matplotlib.pyplot as plt\n",
    "\n",
    "dates = pd.date_range('20130101', periods=6)\n",
    "df = pd.DataFrame(np.random.randn(6,4), index=dates, columns=list('ABCD'))\n",
    "\n",
    "df.head()"
   ]
  },
  {
   "cell_type": "code",
   "execution_count": 12,
   "metadata": {
    "collapsed": false
   },
   "outputs": [
    {
     "data": {
      "text/html": [
       "<div>\n",
       "<table border=\"1\" class=\"dataframe\">\n",
       "  <thead>\n",
       "    <tr style=\"text-align: right;\">\n",
       "      <th></th>\n",
       "      <th>A</th>\n",
       "      <th>B</th>\n",
       "      <th>C</th>\n",
       "      <th>D</th>\n",
       "    </tr>\n",
       "  </thead>\n",
       "  <tbody>\n",
       "    <tr>\n",
       "      <th>2013-01-04</th>\n",
       "      <td>-1.280894</td>\n",
       "      <td>0.277744</td>\n",
       "      <td>0.307192</td>\n",
       "      <td>-0.740570</td>\n",
       "    </tr>\n",
       "    <tr>\n",
       "      <th>2013-01-05</th>\n",
       "      <td>-1.735930</td>\n",
       "      <td>0.230301</td>\n",
       "      <td>0.184035</td>\n",
       "      <td>0.752999</td>\n",
       "    </tr>\n",
       "    <tr>\n",
       "      <th>2013-01-06</th>\n",
       "      <td>-1.004233</td>\n",
       "      <td>0.568325</td>\n",
       "      <td>0.978460</td>\n",
       "      <td>-0.498527</td>\n",
       "    </tr>\n",
       "  </tbody>\n",
       "</table>\n",
       "</div>"
      ],
      "text/plain": [
       "                   A         B         C         D\n",
       "2013-01-04 -1.280894  0.277744  0.307192 -0.740570\n",
       "2013-01-05 -1.735930  0.230301  0.184035  0.752999\n",
       "2013-01-06 -1.004233  0.568325  0.978460 -0.498527"
      ]
     },
     "execution_count": 12,
     "metadata": {},
     "output_type": "execute_result"
    }
   ],
   "source": [
    "df.tail(3)"
   ]
  },
  {
   "cell_type": "markdown",
   "metadata": {},
   "source": [
    "To display the index columns and the underlying numpy data, we use the following: "
   ]
  },
  {
   "cell_type": "code",
   "execution_count": 13,
   "metadata": {
    "collapsed": false
   },
   "outputs": [
    {
     "data": {
      "text/plain": [
       "DatetimeIndex(['2013-01-01', '2013-01-02', '2013-01-03', '2013-01-04',\n",
       "               '2013-01-05', '2013-01-06'],\n",
       "              dtype='datetime64[ns]', freq='D')"
      ]
     },
     "execution_count": 13,
     "metadata": {},
     "output_type": "execute_result"
    }
   ],
   "source": [
    "df.index"
   ]
  },
  {
   "cell_type": "code",
   "execution_count": 14,
   "metadata": {
    "collapsed": false
   },
   "outputs": [
    {
     "data": {
      "text/plain": [
       "Index(['A', 'B', 'C', 'D'], dtype='object')"
      ]
     },
     "execution_count": 14,
     "metadata": {},
     "output_type": "execute_result"
    }
   ],
   "source": [
    "df.columns"
   ]
  },
  {
   "cell_type": "code",
   "execution_count": 15,
   "metadata": {
    "collapsed": false
   },
   "outputs": [
    {
     "data": {
      "text/plain": [
       "array([[ 1.81445268, -0.4349651 , -1.13523201, -0.20667256],\n",
       "       [ 0.91477816,  0.07276144, -0.62346226, -0.10170241],\n",
       "       [ 1.52939961, -1.08131471, -0.76533361,  0.71938645],\n",
       "       [-1.28089417,  0.27774436,  0.30719202, -0.74057   ],\n",
       "       [-1.73593027,  0.23030077,  0.18403522,  0.75299871],\n",
       "       [-1.00423295,  0.56832485,  0.97845979, -0.49852666]])"
      ]
     },
     "execution_count": 15,
     "metadata": {},
     "output_type": "execute_result"
    }
   ],
   "source": [
    "df.values"
   ]
  },
  {
   "cell_type": "markdown",
   "metadata": {},
   "source": [
    "The command to show a quick statistic summary of the data:"
   ]
  },
  {
   "cell_type": "code",
   "execution_count": 16,
   "metadata": {
    "collapsed": false
   },
   "outputs": [
    {
     "data": {
      "text/html": [
       "<div>\n",
       "<table border=\"1\" class=\"dataframe\">\n",
       "  <thead>\n",
       "    <tr style=\"text-align: right;\">\n",
       "      <th></th>\n",
       "      <th>A</th>\n",
       "      <th>B</th>\n",
       "      <th>C</th>\n",
       "      <th>D</th>\n",
       "    </tr>\n",
       "  </thead>\n",
       "  <tbody>\n",
       "    <tr>\n",
       "      <th>count</th>\n",
       "      <td>6.000000</td>\n",
       "      <td>6.000000</td>\n",
       "      <td>6.000000</td>\n",
       "      <td>6.000000</td>\n",
       "    </tr>\n",
       "    <tr>\n",
       "      <th>mean</th>\n",
       "      <td>0.039596</td>\n",
       "      <td>-0.061191</td>\n",
       "      <td>-0.175723</td>\n",
       "      <td>-0.012514</td>\n",
       "    </tr>\n",
       "    <tr>\n",
       "      <th>std</th>\n",
       "      <td>1.557006</td>\n",
       "      <td>0.599072</td>\n",
       "      <td>0.795429</td>\n",
       "      <td>0.621870</td>\n",
       "    </tr>\n",
       "    <tr>\n",
       "      <th>min</th>\n",
       "      <td>-1.735930</td>\n",
       "      <td>-1.081315</td>\n",
       "      <td>-1.135232</td>\n",
       "      <td>-0.740570</td>\n",
       "    </tr>\n",
       "    <tr>\n",
       "      <th>25%</th>\n",
       "      <td>-1.211729</td>\n",
       "      <td>-0.308033</td>\n",
       "      <td>-0.729866</td>\n",
       "      <td>-0.425563</td>\n",
       "    </tr>\n",
       "    <tr>\n",
       "      <th>50%</th>\n",
       "      <td>-0.044727</td>\n",
       "      <td>0.151531</td>\n",
       "      <td>-0.219714</td>\n",
       "      <td>-0.154187</td>\n",
       "    </tr>\n",
       "    <tr>\n",
       "      <th>75%</th>\n",
       "      <td>1.375744</td>\n",
       "      <td>0.265883</td>\n",
       "      <td>0.276403</td>\n",
       "      <td>0.514114</td>\n",
       "    </tr>\n",
       "    <tr>\n",
       "      <th>max</th>\n",
       "      <td>1.814453</td>\n",
       "      <td>0.568325</td>\n",
       "      <td>0.978460</td>\n",
       "      <td>0.752999</td>\n",
       "    </tr>\n",
       "  </tbody>\n",
       "</table>\n",
       "</div>"
      ],
      "text/plain": [
       "              A         B         C         D\n",
       "count  6.000000  6.000000  6.000000  6.000000\n",
       "mean   0.039596 -0.061191 -0.175723 -0.012514\n",
       "std    1.557006  0.599072  0.795429  0.621870\n",
       "min   -1.735930 -1.081315 -1.135232 -0.740570\n",
       "25%   -1.211729 -0.308033 -0.729866 -0.425563\n",
       "50%   -0.044727  0.151531 -0.219714 -0.154187\n",
       "75%    1.375744  0.265883  0.276403  0.514114\n",
       "max    1.814453  0.568325  0.978460  0.752999"
      ]
     },
     "execution_count": 16,
     "metadata": {},
     "output_type": "execute_result"
    }
   ],
   "source": [
    "df.describe()"
   ]
  },
  {
   "cell_type": "markdown",
   "metadata": {},
   "source": [
    "To transpose the data we use the command:"
   ]
  },
  {
   "cell_type": "code",
   "execution_count": 17,
   "metadata": {
    "collapsed": false
   },
   "outputs": [
    {
     "data": {
      "text/html": [
       "<div>\n",
       "<table border=\"1\" class=\"dataframe\">\n",
       "  <thead>\n",
       "    <tr style=\"text-align: right;\">\n",
       "      <th></th>\n",
       "      <th>2013-01-01 00:00:00</th>\n",
       "      <th>2013-01-02 00:00:00</th>\n",
       "      <th>2013-01-03 00:00:00</th>\n",
       "      <th>2013-01-04 00:00:00</th>\n",
       "      <th>2013-01-05 00:00:00</th>\n",
       "      <th>2013-01-06 00:00:00</th>\n",
       "    </tr>\n",
       "  </thead>\n",
       "  <tbody>\n",
       "    <tr>\n",
       "      <th>A</th>\n",
       "      <td>1.814453</td>\n",
       "      <td>0.914778</td>\n",
       "      <td>1.529400</td>\n",
       "      <td>-1.280894</td>\n",
       "      <td>-1.735930</td>\n",
       "      <td>-1.004233</td>\n",
       "    </tr>\n",
       "    <tr>\n",
       "      <th>B</th>\n",
       "      <td>-0.434965</td>\n",
       "      <td>0.072761</td>\n",
       "      <td>-1.081315</td>\n",
       "      <td>0.277744</td>\n",
       "      <td>0.230301</td>\n",
       "      <td>0.568325</td>\n",
       "    </tr>\n",
       "    <tr>\n",
       "      <th>C</th>\n",
       "      <td>-1.135232</td>\n",
       "      <td>-0.623462</td>\n",
       "      <td>-0.765334</td>\n",
       "      <td>0.307192</td>\n",
       "      <td>0.184035</td>\n",
       "      <td>0.978460</td>\n",
       "    </tr>\n",
       "    <tr>\n",
       "      <th>D</th>\n",
       "      <td>-0.206673</td>\n",
       "      <td>-0.101702</td>\n",
       "      <td>0.719386</td>\n",
       "      <td>-0.740570</td>\n",
       "      <td>0.752999</td>\n",
       "      <td>-0.498527</td>\n",
       "    </tr>\n",
       "  </tbody>\n",
       "</table>\n",
       "</div>"
      ],
      "text/plain": [
       "   2013-01-01  2013-01-02  2013-01-03  2013-01-04  2013-01-05  2013-01-06\n",
       "A    1.814453    0.914778    1.529400   -1.280894   -1.735930   -1.004233\n",
       "B   -0.434965    0.072761   -1.081315    0.277744    0.230301    0.568325\n",
       "C   -1.135232   -0.623462   -0.765334    0.307192    0.184035    0.978460\n",
       "D   -0.206673   -0.101702    0.719386   -0.740570    0.752999   -0.498527"
      ]
     },
     "execution_count": 17,
     "metadata": {},
     "output_type": "execute_result"
    }
   ],
   "source": [
    "df.T"
   ]
  },
  {
   "cell_type": "markdown",
   "metadata": {},
   "source": [
    "Sorting by axis means that we sort by the order of the column labels. To sort by an axis, we can set ascending equal to True (which doesn't change the way the DataFrame looks). If we change the value to False, we use the following:"
   ]
  },
  {
   "cell_type": "code",
   "execution_count": 18,
   "metadata": {
    "collapsed": false
   },
   "outputs": [
    {
     "data": {
      "text/html": [
       "<div>\n",
       "<table border=\"1\" class=\"dataframe\">\n",
       "  <thead>\n",
       "    <tr style=\"text-align: right;\">\n",
       "      <th></th>\n",
       "      <th>D</th>\n",
       "      <th>C</th>\n",
       "      <th>B</th>\n",
       "      <th>A</th>\n",
       "    </tr>\n",
       "  </thead>\n",
       "  <tbody>\n",
       "    <tr>\n",
       "      <th>2013-01-01</th>\n",
       "      <td>-0.206673</td>\n",
       "      <td>-1.135232</td>\n",
       "      <td>-0.434965</td>\n",
       "      <td>1.814453</td>\n",
       "    </tr>\n",
       "    <tr>\n",
       "      <th>2013-01-02</th>\n",
       "      <td>-0.101702</td>\n",
       "      <td>-0.623462</td>\n",
       "      <td>0.072761</td>\n",
       "      <td>0.914778</td>\n",
       "    </tr>\n",
       "    <tr>\n",
       "      <th>2013-01-03</th>\n",
       "      <td>0.719386</td>\n",
       "      <td>-0.765334</td>\n",
       "      <td>-1.081315</td>\n",
       "      <td>1.529400</td>\n",
       "    </tr>\n",
       "    <tr>\n",
       "      <th>2013-01-04</th>\n",
       "      <td>-0.740570</td>\n",
       "      <td>0.307192</td>\n",
       "      <td>0.277744</td>\n",
       "      <td>-1.280894</td>\n",
       "    </tr>\n",
       "    <tr>\n",
       "      <th>2013-01-05</th>\n",
       "      <td>0.752999</td>\n",
       "      <td>0.184035</td>\n",
       "      <td>0.230301</td>\n",
       "      <td>-1.735930</td>\n",
       "    </tr>\n",
       "    <tr>\n",
       "      <th>2013-01-06</th>\n",
       "      <td>-0.498527</td>\n",
       "      <td>0.978460</td>\n",
       "      <td>0.568325</td>\n",
       "      <td>-1.004233</td>\n",
       "    </tr>\n",
       "  </tbody>\n",
       "</table>\n",
       "</div>"
      ],
      "text/plain": [
       "                   D         C         B         A\n",
       "2013-01-01 -0.206673 -1.135232 -0.434965  1.814453\n",
       "2013-01-02 -0.101702 -0.623462  0.072761  0.914778\n",
       "2013-01-03  0.719386 -0.765334 -1.081315  1.529400\n",
       "2013-01-04 -0.740570  0.307192  0.277744 -1.280894\n",
       "2013-01-05  0.752999  0.184035  0.230301 -1.735930\n",
       "2013-01-06 -0.498527  0.978460  0.568325 -1.004233"
      ]
     },
     "execution_count": 18,
     "metadata": {},
     "output_type": "execute_result"
    }
   ],
   "source": [
    "df.sort_index(axis=1, ascending=False)"
   ]
  },
  {
   "cell_type": "markdown",
   "metadata": {},
   "source": [
    "To sort by a specific column, we use the follwing command:"
   ]
  },
  {
   "cell_type": "code",
   "execution_count": 19,
   "metadata": {
    "collapsed": false
   },
   "outputs": [
    {
     "data": {
      "text/html": [
       "<div>\n",
       "<table border=\"1\" class=\"dataframe\">\n",
       "  <thead>\n",
       "    <tr style=\"text-align: right;\">\n",
       "      <th></th>\n",
       "      <th>A</th>\n",
       "      <th>B</th>\n",
       "      <th>C</th>\n",
       "      <th>D</th>\n",
       "    </tr>\n",
       "  </thead>\n",
       "  <tbody>\n",
       "    <tr>\n",
       "      <th>2013-01-03</th>\n",
       "      <td>1.529400</td>\n",
       "      <td>-1.081315</td>\n",
       "      <td>-0.765334</td>\n",
       "      <td>0.719386</td>\n",
       "    </tr>\n",
       "    <tr>\n",
       "      <th>2013-01-01</th>\n",
       "      <td>1.814453</td>\n",
       "      <td>-0.434965</td>\n",
       "      <td>-1.135232</td>\n",
       "      <td>-0.206673</td>\n",
       "    </tr>\n",
       "    <tr>\n",
       "      <th>2013-01-02</th>\n",
       "      <td>0.914778</td>\n",
       "      <td>0.072761</td>\n",
       "      <td>-0.623462</td>\n",
       "      <td>-0.101702</td>\n",
       "    </tr>\n",
       "    <tr>\n",
       "      <th>2013-01-05</th>\n",
       "      <td>-1.735930</td>\n",
       "      <td>0.230301</td>\n",
       "      <td>0.184035</td>\n",
       "      <td>0.752999</td>\n",
       "    </tr>\n",
       "    <tr>\n",
       "      <th>2013-01-04</th>\n",
       "      <td>-1.280894</td>\n",
       "      <td>0.277744</td>\n",
       "      <td>0.307192</td>\n",
       "      <td>-0.740570</td>\n",
       "    </tr>\n",
       "    <tr>\n",
       "      <th>2013-01-06</th>\n",
       "      <td>-1.004233</td>\n",
       "      <td>0.568325</td>\n",
       "      <td>0.978460</td>\n",
       "      <td>-0.498527</td>\n",
       "    </tr>\n",
       "  </tbody>\n",
       "</table>\n",
       "</div>"
      ],
      "text/plain": [
       "                   A         B         C         D\n",
       "2013-01-03  1.529400 -1.081315 -0.765334  0.719386\n",
       "2013-01-01  1.814453 -0.434965 -1.135232 -0.206673\n",
       "2013-01-02  0.914778  0.072761 -0.623462 -0.101702\n",
       "2013-01-05 -1.735930  0.230301  0.184035  0.752999\n",
       "2013-01-04 -1.280894  0.277744  0.307192 -0.740570\n",
       "2013-01-06 -1.004233  0.568325  0.978460 -0.498527"
      ]
     },
     "execution_count": 19,
     "metadata": {},
     "output_type": "execute_result"
    }
   ],
   "source": [
    "df.sort_values(by='B')"
   ]
  },
  {
   "cell_type": "code",
   "execution_count": null,
   "metadata": {
    "collapsed": true
   },
   "outputs": [],
   "source": []
  }
 ],
 "metadata": {
  "kernelspec": {
   "display_name": "Python 3",
   "language": "python",
   "name": "python3"
  },
  "language_info": {
   "codemirror_mode": {
    "name": "ipython",
    "version": 3
   },
   "file_extension": ".py",
   "mimetype": "text/x-python",
   "name": "python",
   "nbconvert_exporter": "python",
   "pygments_lexer": "ipython3",
   "version": "3.6.0"
  }
 },
 "nbformat": 4,
 "nbformat_minor": 2
}
